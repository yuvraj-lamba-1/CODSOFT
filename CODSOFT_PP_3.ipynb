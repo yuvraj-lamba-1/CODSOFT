{
  "nbformat": 4,
  "nbformat_minor": 0,
  "metadata": {
    "colab": {
      "provenance": []
    },
    "kernelspec": {
      "name": "python3",
      "display_name": "Python 3"
    },
    "language_info": {
      "name": "python"
    }
  },
  "cells": [
    {
      "cell_type": "code",
      "execution_count": 1,
      "metadata": {
        "colab": {
          "base_uri": "https://localhost:8080/"
        },
        "id": "v71iB1-8ZsAd",
        "outputId": "f3e9dd28-b896-4727-c43c-7aa73931ba8e"
      },
      "outputs": [
        {
          "output_type": "stream",
          "name": "stdout",
          "text": [
            "Enter the desired length of the password: 7\n",
            "Generated Password: f/8USxT\n"
          ]
        }
      ],
      "source": [
        "import random\n",
        "import string\n",
        "\n",
        "def generate_password(length):\n",
        "    characters = string.ascii_letters + string.digits + string.punctuation\n",
        "    password = ''.join(random.choice(characters) for _ in range(length))\n",
        "    return password\n",
        "\n",
        "def main():\n",
        "    try:\n",
        "        length = int(input(\"Enter the desired length of the password: \"))\n",
        "        if length <= 0:\n",
        "            print(\"Length should be a positive integer.\")\n",
        "            return\n",
        "        password = generate_password(length)\n",
        "        print(\"Generated Password:\", password)\n",
        "    except ValueError:\n",
        "        print(\"Please enter a valid integer for the length.\")\n",
        "\n",
        "if __name__ == \"__main__\":\n",
        "    main()"
      ]
    }
  ]
}