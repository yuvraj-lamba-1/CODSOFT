{
  "nbformat": 4,
  "nbformat_minor": 0,
  "metadata": {
    "colab": {
      "provenance": []
    },
    "kernelspec": {
      "name": "python3",
      "display_name": "Python 3"
    },
    "language_info": {
      "name": "python"
    }
  },
  "cells": [
    {
      "cell_type": "code",
      "execution_count": null,
      "metadata": {
        "colab": {
          "base_uri": "https://localhost:8080/"
        },
        "id": "g-12HzOam5eb",
        "outputId": "68dfbf71-f32b-487a-b6cb-2ee389898a2e"
      },
      "outputs": [
        {
          "output_type": "stream",
          "name": "stdout",
          "text": [
            "\n",
            "Welcome to Rock-Paper-Scissors Game!\n",
            "Choose your move: rock, paper, or scissors (or 'quit' to exit)\n",
            "Your choice: rock\n",
            "\n",
            "Your choice: rock\n",
            "Computer's choice: paper\n",
            "Computer wins!\n",
            "\n",
            "Welcome to Rock-Paper-Scissors Game!\n",
            "Choose your move: rock, paper, or scissors (or 'quit' to exit)\n",
            "Your choice: scissors\n",
            "\n",
            "Your choice: scissors\n",
            "Computer's choice: scissors\n",
            "It's a tie!\n",
            "\n",
            "Welcome to Rock-Paper-Scissors Game!\n",
            "Choose your move: rock, paper, or scissors (or 'quit' to exit)\n",
            "Your choice: quit\n",
            "\n",
            "Final Score:\n",
            "You: 0\n",
            "Computer: 1\n",
            "Thank you for playing!\n"
          ]
        }
      ],
      "source": [
        "import random\n",
        "\n",
        "def determine_winner(user_choice, computer_choice):\n",
        "    if user_choice == computer_choice:\n",
        "        return \"It's a tie!\"\n",
        "    elif (user_choice == 'rock' and computer_choice == 'scissors') or \\\n",
        "         (user_choice == 'scissors' and computer_choice == 'paper') or \\\n",
        "         (user_choice == 'paper' and computer_choice == 'rock'):\n",
        "        return \"You win!\"\n",
        "    else:\n",
        "        return \"Computer wins!\"\n",
        "\n",
        "def main():\n",
        "    user_score = 0\n",
        "    computer_score = 0\n",
        "\n",
        "    while True:\n",
        "        print(\"\\nWelcome to Rock-Paper-Scissors Game!\")\n",
        "        print(\"Choose your move: rock, paper, or scissors (or 'quit' to exit)\")\n",
        "        user_choice = input(\"Your choice: \").lower()\n",
        "\n",
        "        if user_choice == 'quit':\n",
        "            print(\"\\nFinal Score:\")\n",
        "            print(\"You:\", user_score)\n",
        "            print(\"Computer:\", computer_score)\n",
        "            print(\"Thank you for playing!\")\n",
        "            break\n",
        "\n",
        "        if user_choice not in ['rock', 'paper', 'scissors']:\n",
        "            print(\"Invalid choice. Please choose rock, paper, or scissors.\")\n",
        "            continue\n",
        "\n",
        "        computer_choice = random.choice(['rock', 'paper', 'scissors'])\n",
        "\n",
        "        print(\"\\nYour choice:\", user_choice)\n",
        "        print(\"Computer's choice:\", computer_choice)\n",
        "\n",
        "        result = determine_winner(user_choice, computer_choice)\n",
        "        print(result)\n",
        "\n",
        "        if result == \"You win!\":\n",
        "            user_score += 1\n",
        "        elif result == \"Computer wins!\":\n",
        "            computer_score += 1\n",
        "\n",
        "if __name__ == \"__main__\":\n",
        "    main()"
      ]
    }
  ]
}